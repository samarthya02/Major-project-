{
 "cells": [
  {
   "cell_type": "code",
   "execution_count": 31,
   "id": "00680e90",
   "metadata": {},
   "outputs": [
    {
     "name": "stdout",
     "output_type": "stream",
     "text": [
      "[0 0 0 0 0 0 0 0 0 0 0 0 0 0 0 0 0 0 0 0 0 0 0 0 0 0 0 0 0 0 0 0 0 0 0 0 0\n",
      " 0 0 0 0 0 0 0 0 0 0 0 0 0 1 1 1 1 1 1 1 1 1 1 1 1 1 1 1 1 1 1 1 1 1 1 1 1\n",
      " 1 1 1 1 1 1 1 1 1 2 1 1 1 1 1 1 1 1 1 1 1 1 1 1 1 1 2 2 2 2 2 2 2 2 2 2 2\n",
      " 2 2 2 2 2 2 2 2 2 2 2 2 2 2 2 2 2 2 2 2 2 2 2 2 2 2 2 2 2 2 2 2 2 2 2 2 2\n",
      " 2 2]\n",
      "accuracy  : \n",
      "99.33333333333333\n"
     ]
    }
   ],
   "source": [
    "from sklearn.datasets import load_iris\n",
    "from sklearn.model_selection import train_test_split\n",
    "from sklearn.neighbors import KNeighborsClassifier\n",
    "import numpy as np\n",
    "import matplotlib.pyplot as plt\n",
    "import pandas as pd\n",
    "\n",
    "#training data set using iris model because given data set is oragnized\n",
    "dataset = load_iris()\n",
    "#splitting data set\n",
    "X_train, X_test, y_train, y_test = train_test_split(dataset['data'], dataset['target'], random_state=0)\n",
    "knn = KNeighborsClassifier(n_neighbors=1)\n",
    "knn.fit(X_train, y_train)\n",
    "\n",
    "#reading new data set\n",
    "testdataset = pd.read_csv('iris.csv')\n",
    "#reading individual values to match the iris dataset syntax\n",
    "\n",
    "a = testdataset.iloc[:, 1].values\n",
    "b = testdataset.iloc[:, 2].values\n",
    "c = testdataset.iloc[:, 3].values\n",
    "d = testdataset.iloc[:, 4].values\n",
    "answer_dataset = testdataset.iloc[:, 5].values\n",
    "X_testdata = []\n",
    "#feding the data set for prediction into array\n",
    "for i in range(a.size):\n",
    "    X_testdata.append([a[i] , b[i] , c[i] , d[i]])\n",
    "X_test = np.array(X_testdata)\n",
    "\n",
    "#prediction\n",
    "prediction = knn.predict(X_test)\n",
    "print(prediction)\n",
    "prediction_dataset = dataset['target_names'][prediction]\n",
    " \n",
    "#matching the results for comparement and calculating score\n",
    "score = 0\n",
    "for i in range(a.size):\n",
    "    \n",
    "    if(prediction_dataset[i] == answer_dataset[i]):\n",
    "        score += 1\n",
    "    \n",
    "print(\"accuracy  : \")\n",
    "print(score / 150 * 100)\n",
    "\n",
    "#for any new entry just update the iris.csv with new values to check the result.\n",
    "\n"
   ]
  },
  {
   "cell_type": "code",
   "execution_count": 18,
   "id": "c49a406f",
   "metadata": {},
   "outputs": [
    {
     "name": "stdout",
     "output_type": "stream",
     "text": [
      "Samarthya Gupta\n"
     ]
    }
   ],
   "source": [
    "print(\"Samarthya Gupta\")"
   ]
  }
 ],
 "metadata": {
  "kernelspec": {
   "display_name": "Python 3 (ipykernel)",
   "language": "python",
   "name": "python3"
  },
  "language_info": {
   "codemirror_mode": {
    "name": "ipython",
    "version": 3
   },
   "file_extension": ".py",
   "mimetype": "text/x-python",
   "name": "python",
   "nbconvert_exporter": "python",
   "pygments_lexer": "ipython3",
   "version": "3.9.6"
  }
 },
 "nbformat": 4,
 "nbformat_minor": 5
}
